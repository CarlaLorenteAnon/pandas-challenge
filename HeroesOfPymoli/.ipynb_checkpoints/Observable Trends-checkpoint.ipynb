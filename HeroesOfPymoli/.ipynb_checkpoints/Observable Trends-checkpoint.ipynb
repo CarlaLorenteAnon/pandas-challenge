{
 "cells": [
  {
   "cell_type": "markdown",
   "metadata": {},
   "source": [
    "# Observable Trends\n",
    "- Out of the 576 players, almost 85% of them were male versus only a 14% minority of women\n",
    "- The total average purchase of the females was higher than that of the males.\n",
    "- The distribution of ages follows a normal distribution, with the majority of the players (center of the distribution) being in the players with ages ranging from 20 to 24.\n",
    "- The average total purchase per person was higher across 2 age ranges: <10 years old and 35-39 years old\n",
    "- The most purchased items and the most profitable were \"Final Critic\" and \"Oathbreaker, Last Hope of the Breaking Storm\""
   ]
  }
 ],
 "metadata": {
  "kernelspec": {
   "display_name": "Python [conda env:PythonData]",
   "language": "python",
   "name": "conda-env-PythonData-py"
  },
  "language_info": {
   "codemirror_mode": {
    "name": "ipython",
    "version": 3
   },
   "file_extension": ".py",
   "mimetype": "text/x-python",
   "name": "python",
   "nbconvert_exporter": "python",
   "pygments_lexer": "ipython3",
   "version": "3.6.10"
  }
 },
 "nbformat": 4,
 "nbformat_minor": 4
}
